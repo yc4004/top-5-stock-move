{
 "cells": [
  {
   "cell_type": "code",
   "execution_count": 1,
   "metadata": {},
   "outputs": [],
   "source": [
    "# import urllib library\n",
    "from urllib.request import urlopen\n",
    "# import json\n",
    "import json\n",
    "from datetime import datetime"
   ]
  },
  {
   "cell_type": "code",
   "execution_count": 2,
   "metadata": {},
   "outputs": [],
   "source": [
    "def getAnalysis(tickers, _range):\n",
    "    \"\"\"display top 5 day over day percent moves by absolute value for given stocks\n",
    "\n",
    "    Keyword arguments:\n",
    "    tickers -- comma delimited list of stock tickers (any valid stock ticker)\n",
    "    _range -- time range (1 month to 2 years:  1mo,3mo,6mo,1y,2y)\n",
    "    \"\"\"\n",
    "    top_5_move = {}\n",
    "    for ticker in tickers.split(','):\n",
    "        url = \"https://query1.finance.yahoo.com/v7/finance/chart/{}?range={}&interval=1d&indicators=quote&includeTimestamps=true\".format(ticker, _range)\n",
    "\n",
    "        # store the response of URL\n",
    "        response = urlopen(url)\n",
    "\n",
    "        # storing the JSON response \n",
    "        # from url in data\n",
    "        data_json = json.loads(response.read())\n",
    "\n",
    "        # get date and price\n",
    "        data_date = [datetime.fromtimestamp(ts).strftime('%y-%m-%d') for ts in data_json['chart']['result'][0]['timestamp']]\n",
    "        data_price = data_json['chart']['result'][0]['indicators']['adjclose'][0]['adjclose']\n",
    "        \n",
    "        # get move on each day\n",
    "        data_move = [0]\n",
    "        for i in range(1, len(data_date)):\n",
    "            move = 100 * (data_price[i]/data_price[i-1] - 1)\n",
    "            data_move.append(move)\n",
    "\n",
    "        # get top 5 move\n",
    "        data_idx = sorted(range(len(data_move)), key=lambda i: abs(data_move[i]), reverse=True)[:5]\n",
    "        res = []\n",
    "        for idx in data_idx:\n",
    "            res.append(\n",
    "                {\n",
    "                    \"date\": data_date[idx],\n",
    "                    \"move\": data_move[idx]\n",
    "                }\n",
    "            )\n",
    "        top_5_move[ticker] = res\n",
    "    return top_5_move\n"
   ]
  },
  {
   "cell_type": "code",
   "execution_count": 3,
   "metadata": {},
   "outputs": [
    {
     "data": {
      "text/plain": [
       "{'MSFT': [{'date': '22-11-10', 'move': 8.226803194817055},\n",
       "  {'date': '22-10-26', 'move': -7.715628674015507},\n",
       "  {'date': '22-11-30', 'move': 6.162359025405717},\n",
       "  {'date': '22-10-07', 'move': -5.085286452399429},\n",
       "  {'date': '22-10-28', 'move': 4.022046185832107}],\n",
       " 'F': [{'date': '22-10-04', 'move': 7.759367836738207},\n",
       "  {'date': '22-12-16', 'move': -6.983882318197143},\n",
       "  {'date': '22-10-10', 'move': -6.885245124716732},\n",
       "  {'date': '22-11-10', 'move': 6.53643899086378},\n",
       "  {'date': '22-09-29', 'move': -5.829232971843268}],\n",
       " 'CMG': [{'date': '22-11-10', 'move': 6.912248794819353},\n",
       "  {'date': '22-10-26', 'move': -6.81746372538472},\n",
       "  {'date': '22-11-30', 'move': 4.781286493066528},\n",
       "  {'date': '22-11-02', 'move': -4.719432072180185},\n",
       "  {'date': '22-12-06', 'move': -3.9608789908192943}]}"
      ]
     },
     "execution_count": 3,
     "metadata": {},
     "output_type": "execute_result"
    }
   ],
   "source": [
    "getAnalysis('MSFT,F,CMG', '3mo')"
   ]
  },
  {
   "cell_type": "code",
   "execution_count": null,
   "metadata": {},
   "outputs": [],
   "source": []
  }
 ],
 "metadata": {
  "kernelspec": {
   "display_name": "Python 3.7.6 ('base')",
   "language": "python",
   "name": "python3"
  },
  "language_info": {
   "codemirror_mode": {
    "name": "ipython",
    "version": 3
   },
   "file_extension": ".py",
   "mimetype": "text/x-python",
   "name": "python",
   "nbconvert_exporter": "python",
   "pygments_lexer": "ipython3",
   "version": "3.7.6"
  },
  "orig_nbformat": 4,
  "vscode": {
   "interpreter": {
    "hash": "40d3a090f54c6569ab1632332b64b2c03c39dcf918b08424e98f38b5ae0af88f"
   }
  }
 },
 "nbformat": 4,
 "nbformat_minor": 2
}
